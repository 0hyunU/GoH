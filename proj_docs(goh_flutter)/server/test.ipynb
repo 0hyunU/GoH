{
 "cells": [
  {
   "cell_type": "code",
   "execution_count": 1,
   "id": "fcdbd612-8264-4ec4-9e45-319fefd80e06",
   "metadata": {},
   "outputs": [
    {
     "name": "stderr",
     "output_type": "stream",
     "text": [
      "2022-06-06 09:37:08.867923: W tensorflow/stream_executor/platform/default/dso_loader.cc:64] Could not load dynamic library 'libcudart.so.11.0'; dlerror: libcudart.so.11.0: cannot open shared object file: No such file or directory\n"
     ]
    }
   ],
   "source": [
    "import os\n",
    "import numpy as np \n",
    "import pandas as pd \n",
    "import tensorflow as tf\n",
    "import keras\n",
    "\n",
    "from cnn_model_predict import fit_model\n",
    "from ecg_preprocess import ecg_preprocess"
   ]
  },
  {
   "cell_type": "code",
   "execution_count": 2,
   "id": "154787e0-d973-48ad-bd97-698c9df0c85d",
   "metadata": {},
   "outputs": [],
   "source": [
    "df = pd.read_csv('./ecg_test2.csv',header = None) #test용\n",
    "y = [e for e in df[0]] # list input 여기에"
   ]
  },
  {
   "cell_type": "code",
   "execution_count": 3,
   "id": "a9b645ff-e83d-4aae-bfe1-866987292cc4",
   "metadata": {},
   "outputs": [
    {
     "name": "stdout",
     "output_type": "stream",
     "text": [
      "/home/ubuntu/server\n",
      "1/1 [==============================] - 0s 194ms/step\n",
      "Normal beat, everything is normal\n",
      "possibility : 100.00%\n"
     ]
    },
    {
     "data": {
      "text/plain": [
       "0"
      ]
     },
     "execution_count": 3,
     "metadata": {},
     "output_type": "execute_result"
    }
   ],
   "source": [
    "fit_model(ecg_preprocess(y))"
   ]
  }
 ],
 "metadata": {
  "kernelspec": {
   "display_name": "Python 3 (ipykernel)",
   "language": "python",
   "name": "python3"
  },
  "language_info": {
   "codemirror_mode": {
    "name": "ipython",
    "version": 3
   },
   "file_extension": ".py",
   "mimetype": "text/x-python",
   "name": "python",
   "nbconvert_exporter": "python",
   "pygments_lexer": "ipython3",
   "version": "3.8.0"
  }
 },
 "nbformat": 4,
 "nbformat_minor": 5
}
