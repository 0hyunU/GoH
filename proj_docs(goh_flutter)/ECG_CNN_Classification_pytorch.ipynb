{
  "cells": [
    {
      "cell_type": "code",
      "execution_count": null,
      "id": "8e65b951",
      "metadata": {
        "id": "8e65b951"
      },
      "outputs": [],
      "source": [
        "import os\n",
        "import itertools\n",
        "import time\n",
        "import random\n",
        "\n",
        "import numpy as np # linear algebra\n",
        "import pandas as pd # data processing, CSV file I/O (e.g. pd.read_csv)\n",
        "import matplotlib.pyplot as plt\n",
        "import matplotlib.colors as mcolors\n",
        "import seaborn as sns\n",
        "\n",
        "import torch\n",
        "import torch.nn as nn\n",
        "import torch.nn.functional as F\n",
        "from torch.utils.data import Dataset, DataLoader\n",
        "from torch.optim import AdamW\n",
        "from torch.optim.lr_scheduler import (CosineAnnealingLR,\n",
        "                                      CosineAnnealingWarmRestarts,\n",
        "                                      StepLR,\n",
        "                                      ExponentialLR)\n",
        "\n",
        "from sklearn.model_selection import train_test_split\n",
        "from sklearn.metrics import precision_recall_curve\n",
        "from sklearn.metrics import classification_report, confusion_matrix\n",
        "from sklearn.metrics import accuracy_score, auc, f1_score, precision_score, recall_score"
      ]
    },
    {
      "cell_type": "code",
      "execution_count": null,
      "id": "40297032",
      "metadata": {
        "id": "40297032"
      },
      "outputs": [],
      "source": [
        "cnn_state_path = './archive/cnn.pth'\n",
        "csv_path = ''\n",
        "cnn_logs = './archive/cnn.csv'\n",
        "train_csv_path = './archive/mitbih_with_synthetic_train.csv'\n",
        "test_csv_path = './archive/mitbih_with_syntetic_test.csv'"
      ]
    },
    {
      "cell_type": "code",
      "execution_count": null,
      "id": "c7cbed06",
      "metadata": {
        "colab": {
          "base_uri": "https://localhost:8080/",
          "height": 383
        },
        "id": "c7cbed06",
        "outputId": "ba035546-26e5-4194-cd62-0c743edd77fb"
      },
      "outputs": [
        {
          "output_type": "error",
          "ename": "FileNotFoundError",
          "evalue": "ignored",
          "traceback": [
            "\u001b[0;31m---------------------------------------------------------------------------\u001b[0m",
            "\u001b[0;31mFileNotFoundError\u001b[0m                         Traceback (most recent call last)",
            "\u001b[0;32m<ipython-input-3-4bf8089bc09f>\u001b[0m in \u001b[0;36m<module>\u001b[0;34m()\u001b[0m\n\u001b[0;32m----> 1\u001b[0;31m \u001b[0mdf_ptbdb\u001b[0m \u001b[0;34m=\u001b[0m \u001b[0mpd\u001b[0m\u001b[0;34m.\u001b[0m\u001b[0mread_csv\u001b[0m\u001b[0;34m(\u001b[0m\u001b[0;34m'./DATA/ptbdb_abnormal.csv'\u001b[0m\u001b[0;34m)\u001b[0m\u001b[0;34m\u001b[0m\u001b[0;34m\u001b[0m\u001b[0m\n\u001b[0m\u001b[1;32m      2\u001b[0m \u001b[0mdf_mitbih\u001b[0m \u001b[0;34m=\u001b[0m \u001b[0mpd\u001b[0m\u001b[0;34m.\u001b[0m\u001b[0mread_csv\u001b[0m\u001b[0;34m(\u001b[0m\u001b[0;34m'./DATA/mitbih_train.csv'\u001b[0m\u001b[0;34m)\u001b[0m\u001b[0;34m\u001b[0m\u001b[0;34m\u001b[0m\u001b[0m\n\u001b[1;32m      3\u001b[0m \u001b[0mdf_ptbdb\u001b[0m\u001b[0;34m\u001b[0m\u001b[0;34m\u001b[0m\u001b[0m\n",
            "\u001b[0;32m/usr/local/lib/python3.7/dist-packages/pandas/util/_decorators.py\u001b[0m in \u001b[0;36mwrapper\u001b[0;34m(*args, **kwargs)\u001b[0m\n\u001b[1;32m    309\u001b[0m                     \u001b[0mstacklevel\u001b[0m\u001b[0;34m=\u001b[0m\u001b[0mstacklevel\u001b[0m\u001b[0;34m,\u001b[0m\u001b[0;34m\u001b[0m\u001b[0;34m\u001b[0m\u001b[0m\n\u001b[1;32m    310\u001b[0m                 )\n\u001b[0;32m--> 311\u001b[0;31m             \u001b[0;32mreturn\u001b[0m \u001b[0mfunc\u001b[0m\u001b[0;34m(\u001b[0m\u001b[0;34m*\u001b[0m\u001b[0margs\u001b[0m\u001b[0;34m,\u001b[0m \u001b[0;34m**\u001b[0m\u001b[0mkwargs\u001b[0m\u001b[0;34m)\u001b[0m\u001b[0;34m\u001b[0m\u001b[0;34m\u001b[0m\u001b[0m\n\u001b[0m\u001b[1;32m    312\u001b[0m \u001b[0;34m\u001b[0m\u001b[0m\n\u001b[1;32m    313\u001b[0m         \u001b[0;32mreturn\u001b[0m \u001b[0mwrapper\u001b[0m\u001b[0;34m\u001b[0m\u001b[0;34m\u001b[0m\u001b[0m\n",
            "\u001b[0;32m/usr/local/lib/python3.7/dist-packages/pandas/io/parsers/readers.py\u001b[0m in \u001b[0;36mread_csv\u001b[0;34m(filepath_or_buffer, sep, delimiter, header, names, index_col, usecols, squeeze, prefix, mangle_dupe_cols, dtype, engine, converters, true_values, false_values, skipinitialspace, skiprows, skipfooter, nrows, na_values, keep_default_na, na_filter, verbose, skip_blank_lines, parse_dates, infer_datetime_format, keep_date_col, date_parser, dayfirst, cache_dates, iterator, chunksize, compression, thousands, decimal, lineterminator, quotechar, quoting, doublequote, escapechar, comment, encoding, encoding_errors, dialect, error_bad_lines, warn_bad_lines, on_bad_lines, delim_whitespace, low_memory, memory_map, float_precision, storage_options)\u001b[0m\n\u001b[1;32m    584\u001b[0m     \u001b[0mkwds\u001b[0m\u001b[0;34m.\u001b[0m\u001b[0mupdate\u001b[0m\u001b[0;34m(\u001b[0m\u001b[0mkwds_defaults\u001b[0m\u001b[0;34m)\u001b[0m\u001b[0;34m\u001b[0m\u001b[0;34m\u001b[0m\u001b[0m\n\u001b[1;32m    585\u001b[0m \u001b[0;34m\u001b[0m\u001b[0m\n\u001b[0;32m--> 586\u001b[0;31m     \u001b[0;32mreturn\u001b[0m \u001b[0m_read\u001b[0m\u001b[0;34m(\u001b[0m\u001b[0mfilepath_or_buffer\u001b[0m\u001b[0;34m,\u001b[0m \u001b[0mkwds\u001b[0m\u001b[0;34m)\u001b[0m\u001b[0;34m\u001b[0m\u001b[0;34m\u001b[0m\u001b[0m\n\u001b[0m\u001b[1;32m    587\u001b[0m \u001b[0;34m\u001b[0m\u001b[0m\n\u001b[1;32m    588\u001b[0m \u001b[0;34m\u001b[0m\u001b[0m\n",
            "\u001b[0;32m/usr/local/lib/python3.7/dist-packages/pandas/io/parsers/readers.py\u001b[0m in \u001b[0;36m_read\u001b[0;34m(filepath_or_buffer, kwds)\u001b[0m\n\u001b[1;32m    480\u001b[0m \u001b[0;34m\u001b[0m\u001b[0m\n\u001b[1;32m    481\u001b[0m     \u001b[0;31m# Create the parser.\u001b[0m\u001b[0;34m\u001b[0m\u001b[0;34m\u001b[0m\u001b[0;34m\u001b[0m\u001b[0m\n\u001b[0;32m--> 482\u001b[0;31m     \u001b[0mparser\u001b[0m \u001b[0;34m=\u001b[0m \u001b[0mTextFileReader\u001b[0m\u001b[0;34m(\u001b[0m\u001b[0mfilepath_or_buffer\u001b[0m\u001b[0;34m,\u001b[0m \u001b[0;34m**\u001b[0m\u001b[0mkwds\u001b[0m\u001b[0;34m)\u001b[0m\u001b[0;34m\u001b[0m\u001b[0;34m\u001b[0m\u001b[0m\n\u001b[0m\u001b[1;32m    483\u001b[0m \u001b[0;34m\u001b[0m\u001b[0m\n\u001b[1;32m    484\u001b[0m     \u001b[0;32mif\u001b[0m \u001b[0mchunksize\u001b[0m \u001b[0;32mor\u001b[0m \u001b[0miterator\u001b[0m\u001b[0;34m:\u001b[0m\u001b[0;34m\u001b[0m\u001b[0;34m\u001b[0m\u001b[0m\n",
            "\u001b[0;32m/usr/local/lib/python3.7/dist-packages/pandas/io/parsers/readers.py\u001b[0m in \u001b[0;36m__init__\u001b[0;34m(self, f, engine, **kwds)\u001b[0m\n\u001b[1;32m    809\u001b[0m             \u001b[0mself\u001b[0m\u001b[0;34m.\u001b[0m\u001b[0moptions\u001b[0m\u001b[0;34m[\u001b[0m\u001b[0;34m\"has_index_names\"\u001b[0m\u001b[0;34m]\u001b[0m \u001b[0;34m=\u001b[0m \u001b[0mkwds\u001b[0m\u001b[0;34m[\u001b[0m\u001b[0;34m\"has_index_names\"\u001b[0m\u001b[0;34m]\u001b[0m\u001b[0;34m\u001b[0m\u001b[0;34m\u001b[0m\u001b[0m\n\u001b[1;32m    810\u001b[0m \u001b[0;34m\u001b[0m\u001b[0m\n\u001b[0;32m--> 811\u001b[0;31m         \u001b[0mself\u001b[0m\u001b[0;34m.\u001b[0m\u001b[0m_engine\u001b[0m \u001b[0;34m=\u001b[0m \u001b[0mself\u001b[0m\u001b[0;34m.\u001b[0m\u001b[0m_make_engine\u001b[0m\u001b[0;34m(\u001b[0m\u001b[0mself\u001b[0m\u001b[0;34m.\u001b[0m\u001b[0mengine\u001b[0m\u001b[0;34m)\u001b[0m\u001b[0;34m\u001b[0m\u001b[0;34m\u001b[0m\u001b[0m\n\u001b[0m\u001b[1;32m    812\u001b[0m \u001b[0;34m\u001b[0m\u001b[0m\n\u001b[1;32m    813\u001b[0m     \u001b[0;32mdef\u001b[0m \u001b[0mclose\u001b[0m\u001b[0;34m(\u001b[0m\u001b[0mself\u001b[0m\u001b[0;34m)\u001b[0m\u001b[0;34m:\u001b[0m\u001b[0;34m\u001b[0m\u001b[0;34m\u001b[0m\u001b[0m\n",
            "\u001b[0;32m/usr/local/lib/python3.7/dist-packages/pandas/io/parsers/readers.py\u001b[0m in \u001b[0;36m_make_engine\u001b[0;34m(self, engine)\u001b[0m\n\u001b[1;32m   1038\u001b[0m             )\n\u001b[1;32m   1039\u001b[0m         \u001b[0;31m# error: Too many arguments for \"ParserBase\"\u001b[0m\u001b[0;34m\u001b[0m\u001b[0;34m\u001b[0m\u001b[0;34m\u001b[0m\u001b[0m\n\u001b[0;32m-> 1040\u001b[0;31m         \u001b[0;32mreturn\u001b[0m \u001b[0mmapping\u001b[0m\u001b[0;34m[\u001b[0m\u001b[0mengine\u001b[0m\u001b[0;34m]\u001b[0m\u001b[0;34m(\u001b[0m\u001b[0mself\u001b[0m\u001b[0;34m.\u001b[0m\u001b[0mf\u001b[0m\u001b[0;34m,\u001b[0m \u001b[0;34m**\u001b[0m\u001b[0mself\u001b[0m\u001b[0;34m.\u001b[0m\u001b[0moptions\u001b[0m\u001b[0;34m)\u001b[0m  \u001b[0;31m# type: ignore[call-arg]\u001b[0m\u001b[0;34m\u001b[0m\u001b[0;34m\u001b[0m\u001b[0m\n\u001b[0m\u001b[1;32m   1041\u001b[0m \u001b[0;34m\u001b[0m\u001b[0m\n\u001b[1;32m   1042\u001b[0m     \u001b[0;32mdef\u001b[0m \u001b[0m_failover_to_python\u001b[0m\u001b[0;34m(\u001b[0m\u001b[0mself\u001b[0m\u001b[0;34m)\u001b[0m\u001b[0;34m:\u001b[0m\u001b[0;34m\u001b[0m\u001b[0;34m\u001b[0m\u001b[0m\n",
            "\u001b[0;32m/usr/local/lib/python3.7/dist-packages/pandas/io/parsers/c_parser_wrapper.py\u001b[0m in \u001b[0;36m__init__\u001b[0;34m(self, src, **kwds)\u001b[0m\n\u001b[1;32m     49\u001b[0m \u001b[0;34m\u001b[0m\u001b[0m\n\u001b[1;32m     50\u001b[0m         \u001b[0;31m# open handles\u001b[0m\u001b[0;34m\u001b[0m\u001b[0;34m\u001b[0m\u001b[0;34m\u001b[0m\u001b[0m\n\u001b[0;32m---> 51\u001b[0;31m         \u001b[0mself\u001b[0m\u001b[0;34m.\u001b[0m\u001b[0m_open_handles\u001b[0m\u001b[0;34m(\u001b[0m\u001b[0msrc\u001b[0m\u001b[0;34m,\u001b[0m \u001b[0mkwds\u001b[0m\u001b[0;34m)\u001b[0m\u001b[0;34m\u001b[0m\u001b[0;34m\u001b[0m\u001b[0m\n\u001b[0m\u001b[1;32m     52\u001b[0m         \u001b[0;32massert\u001b[0m \u001b[0mself\u001b[0m\u001b[0;34m.\u001b[0m\u001b[0mhandles\u001b[0m \u001b[0;32mis\u001b[0m \u001b[0;32mnot\u001b[0m \u001b[0;32mNone\u001b[0m\u001b[0;34m\u001b[0m\u001b[0;34m\u001b[0m\u001b[0m\n\u001b[1;32m     53\u001b[0m \u001b[0;34m\u001b[0m\u001b[0m\n",
            "\u001b[0;32m/usr/local/lib/python3.7/dist-packages/pandas/io/parsers/base_parser.py\u001b[0m in \u001b[0;36m_open_handles\u001b[0;34m(self, src, kwds)\u001b[0m\n\u001b[1;32m    227\u001b[0m             \u001b[0mmemory_map\u001b[0m\u001b[0;34m=\u001b[0m\u001b[0mkwds\u001b[0m\u001b[0;34m.\u001b[0m\u001b[0mget\u001b[0m\u001b[0;34m(\u001b[0m\u001b[0;34m\"memory_map\"\u001b[0m\u001b[0;34m,\u001b[0m \u001b[0;32mFalse\u001b[0m\u001b[0;34m)\u001b[0m\u001b[0;34m,\u001b[0m\u001b[0;34m\u001b[0m\u001b[0;34m\u001b[0m\u001b[0m\n\u001b[1;32m    228\u001b[0m             \u001b[0mstorage_options\u001b[0m\u001b[0;34m=\u001b[0m\u001b[0mkwds\u001b[0m\u001b[0;34m.\u001b[0m\u001b[0mget\u001b[0m\u001b[0;34m(\u001b[0m\u001b[0;34m\"storage_options\"\u001b[0m\u001b[0;34m,\u001b[0m \u001b[0;32mNone\u001b[0m\u001b[0;34m)\u001b[0m\u001b[0;34m,\u001b[0m\u001b[0;34m\u001b[0m\u001b[0;34m\u001b[0m\u001b[0m\n\u001b[0;32m--> 229\u001b[0;31m             \u001b[0merrors\u001b[0m\u001b[0;34m=\u001b[0m\u001b[0mkwds\u001b[0m\u001b[0;34m.\u001b[0m\u001b[0mget\u001b[0m\u001b[0;34m(\u001b[0m\u001b[0;34m\"encoding_errors\"\u001b[0m\u001b[0;34m,\u001b[0m \u001b[0;34m\"strict\"\u001b[0m\u001b[0;34m)\u001b[0m\u001b[0;34m,\u001b[0m\u001b[0;34m\u001b[0m\u001b[0;34m\u001b[0m\u001b[0m\n\u001b[0m\u001b[1;32m    230\u001b[0m         )\n\u001b[1;32m    231\u001b[0m \u001b[0;34m\u001b[0m\u001b[0m\n",
            "\u001b[0;32m/usr/local/lib/python3.7/dist-packages/pandas/io/common.py\u001b[0m in \u001b[0;36mget_handle\u001b[0;34m(path_or_buf, mode, encoding, compression, memory_map, is_text, errors, storage_options)\u001b[0m\n\u001b[1;32m    705\u001b[0m                 \u001b[0mencoding\u001b[0m\u001b[0;34m=\u001b[0m\u001b[0mioargs\u001b[0m\u001b[0;34m.\u001b[0m\u001b[0mencoding\u001b[0m\u001b[0;34m,\u001b[0m\u001b[0;34m\u001b[0m\u001b[0;34m\u001b[0m\u001b[0m\n\u001b[1;32m    706\u001b[0m                 \u001b[0merrors\u001b[0m\u001b[0;34m=\u001b[0m\u001b[0merrors\u001b[0m\u001b[0;34m,\u001b[0m\u001b[0;34m\u001b[0m\u001b[0;34m\u001b[0m\u001b[0m\n\u001b[0;32m--> 707\u001b[0;31m                 \u001b[0mnewline\u001b[0m\u001b[0;34m=\u001b[0m\u001b[0;34m\"\"\u001b[0m\u001b[0;34m,\u001b[0m\u001b[0;34m\u001b[0m\u001b[0;34m\u001b[0m\u001b[0m\n\u001b[0m\u001b[1;32m    708\u001b[0m             )\n\u001b[1;32m    709\u001b[0m         \u001b[0;32melse\u001b[0m\u001b[0;34m:\u001b[0m\u001b[0;34m\u001b[0m\u001b[0;34m\u001b[0m\u001b[0m\n",
            "\u001b[0;31mFileNotFoundError\u001b[0m: [Errno 2] No such file or directory: './DATA/ptbdb_abnormal.csv'"
          ]
        }
      ],
      "source": [
        "df_ptbdb = pd.read_csv('./DATA/ptbdb_abnormal.csv')\n",
        "df_mitbih = pd.read_csv('./DATA/mitbih_train.csv')\n",
        "df_ptbdb"
      ]
    },
    {
      "cell_type": "code",
      "execution_count": null,
      "id": "641d4135",
      "metadata": {
        "id": "641d4135"
      },
      "outputs": [],
      "source": [
        "df_mitbih_train = pd.read_csv('./DATA/mitbih_train.csv', header=None)\n",
        "df_mitbih_test = pd.read_csv('./DATA/mitbih_test.csv', header=None)\n",
        "df_mitbih = pd.concat([df_mitbih_train, df_mitbih_test], axis=0)\n",
        "df_mitbih.rename(columns={187: 'class'}, inplace=True)\n",
        "\n",
        "id_to_label = {\n",
        "    0: \"Normal\",\n",
        "    1: \"Artial Premature\",\n",
        "    2: \"Premature ventricular contraction\",\n",
        "    3: \"Fusion of ventricular and normal\",\n",
        "    4: \"Fusion of paced and normal\"\n",
        "}\n",
        "df_mitbih['label'] = df_mitbih.iloc[:, -1].map(id_to_label)\n",
        "print(df_mitbih.info())"
      ]
    },
    {
      "cell_type": "code",
      "execution_count": null,
      "id": "decc8605",
      "metadata": {
        "id": "decc8605"
      },
      "outputs": [],
      "source": [
        "df_mitbih.to_csv('data.csv', index=False)"
      ]
    },
    {
      "cell_type": "markdown",
      "id": "5a224b7b",
      "metadata": {
        "id": "5a224b7b"
      },
      "source": [
        "# EDA"
      ]
    },
    {
      "cell_type": "code",
      "execution_count": null,
      "id": "cc895846",
      "metadata": {
        "id": "cc895846"
      },
      "outputs": [],
      "source": [
        "df_mitbih = pd.read_csv('./data.csv')\n",
        "df_mitbih['label'].value_counts()"
      ]
    },
    {
      "cell_type": "code",
      "execution_count": null,
      "id": "a1d33898",
      "metadata": {
        "id": "a1d33898"
      },
      "outputs": [],
      "source": [
        "percentages = [count / df_mitbih.shape[0] * 100 for count in df_mitbih['label'].value_counts()]\n",
        "\n",
        "fig, ax = plt.subplots(figsize=(12, 6))\n",
        "sns.countplot(\n",
        "    x=df_mitbih['label'],\n",
        "    ax=ax,\n",
        "    palette=\"bright\",\n",
        "    order=df_mitbih['label'].value_counts().index\n",
        ")\n",
        "ax.set_xticklabels(ax.get_xticklabels(), rotation=15);\n",
        "\n",
        "for percentage, count, p in zip(\n",
        "    percentages,\n",
        "    df_mitbih['label'].value_counts(sort=True).values,\n",
        "    ax.patches):\n",
        "    \n",
        "    percentage = f'{np.round(percentage, 2)}%'\n",
        "    x = p.get_x() + p.get_width() / 2 - 0.4\n",
        "    y = p.get_y() + p.get_height()\n",
        "    ax.annotate(str(percentage)+\" / \"+str(count), (x, y), fontsize=12, fontweight='bold')\n",
        "    \n",
        "plt.savefig('data_dist.png', facecolor='w', edgecolor='w', format='png',\n",
        "        transparent=False, bbox_inches='tight', pad_inches=0.1)\n",
        "plt.savefig('data_dist.svg', facecolor='w', edgecolor='w', format='svg',\n",
        "        transparent=False, bbox_inches='tight', pad_inches=0.1)"
      ]
    },
    {
      "cell_type": "code",
      "execution_count": null,
      "id": "36fdd625",
      "metadata": {
        "id": "36fdd625"
      },
      "outputs": [],
      "source": [
        "N = 5\n",
        "samples = [df_mitbih.loc[df_mitbih['class'] == cls].sample(N) for cls in range(N)]\n",
        "titles = [id_to_label[cls] for cls in range(5)]\n",
        "\n",
        "with plt.style.context(\"seaborn-white\"):\n",
        "    fig, axs = plt.subplots(3, 2, figsize=(20, 7))\n",
        "    for i in range(5):\n",
        "        ax = axs.flat[i]\n",
        "        ax.plot(samples[i].values[:,:-2].transpose())\n",
        "        ax.set_title(titles[i])\n",
        "        #plt.ylabel(\"Amplitude\")\n",
        "\n",
        "    plt.tight_layout()\n",
        "    plt.suptitle(\"ECG Signals\", fontsize=20, y=1.05, weight=\"bold\")\n",
        "    plt.savefig(f\"signals_per_class.svg\",\n",
        "                    format=\"svg\",bbox_inches='tight', pad_inches=0.2)\n",
        "        \n",
        "    plt.savefig(f\"signals_per_class.png\", \n",
        "                    format=\"png\",bbox_inches='tight', pad_inches=0.2) "
      ]
    },
    {
      "cell_type": "code",
      "execution_count": null,
      "id": "27f5d92f",
      "metadata": {
        "id": "27f5d92f"
      },
      "outputs": [],
      "source": [
        "%%time\n",
        "signals = [' '.join(df_mitbih.iloc[i, :-1].apply(str).values) for i in range(df_mitbih.shape[0])]\n",
        "y = df_mitbih.iloc[:, -1].values.tolist()\n",
        "print(len(signals), len(y))\n",
        "\n",
        "print(f'data has {len(set([sig for line in signals for sig in line.split()]))} out of 16 372 411 unique values.')"
      ]
    },
    {
      "cell_type": "markdown",
      "id": "c3a5de6f",
      "metadata": {
        "id": "c3a5de6f"
      },
      "source": [
        "# Dataset & Dataloader"
      ]
    },
    {
      "cell_type": "code",
      "execution_count": null,
      "id": "74816d7e",
      "metadata": {
        "id": "74816d7e"
      },
      "outputs": [],
      "source": [
        "class ECGDataset(Dataset):\n",
        "\n",
        "    def __init__(self, df):\n",
        "        self.df = df\n",
        "        self.data_columns = self.df.columns[:-2].tolist()\n",
        "\n",
        "    def __getitem__(self, idx):\n",
        "        signal = self.df.loc[idx, self.data_columns].astype('float32')\n",
        "        signal = torch.FloatTensor([signal.values])                 \n",
        "        target = torch.LongTensor(np.array(self.df.loc[idx, 'class']))\n",
        "        return signal, target\n",
        "\n",
        "    def __len__(self):\n",
        "        return len(self.df)"
      ]
    },
    {
      "cell_type": "code",
      "source": [
        "def get_dataloader(phase: str, batch_size: int = 96) -> DataLoader:\n",
        "    '''\n",
        "    Dataset and DataLoader.\n",
        "    Parameters:\n",
        "        pahse: training or validation phase.\n",
        "        batch_size: data per iteration.\n",
        "    Returns:\n",
        "        data generator\n",
        "    '''\n",
        "    df = pd.read_csv(train_csv_path)\n",
        "    train_df, val_df = train_test_split(\n",
        "        df, test_size=0.15, random_state=2021, stratify=df['label']\n",
        "    )\n",
        "    train_df, val_df = train_df.reset_index(drop=True), val_df.reset_index(drop=True)\n",
        "    df = train_df if phase == 'train' else val_df\n",
        "    dataset = ECGDataset(df)\n",
        "    dataloader = DataLoader(dataset=dataset, batch_size=batch_size, num_workers=4)\n",
        "    return dataloader"
      ],
      "metadata": {
        "id": "Pi7yqdk86hwp"
      },
      "id": "Pi7yqdk86hwp",
      "execution_count": null,
      "outputs": []
    },
    {
      "cell_type": "code",
      "execution_count": null,
      "id": "e7045a20",
      "metadata": {
        "id": "e7045a20"
      },
      "outputs": [],
      "source": [
        "class Swish(nn.Module):\n",
        "    def forward(self, x):\n",
        "        return x * torch.sigmoid(x)\n",
        "    \n",
        "x = torch.linspace(-10.0, 10.0, 100)\n",
        "swish = Swish()\n",
        "swish_out = swish(x)\n",
        "relu_out = torch.relu(x)\n",
        "\n",
        "plt.title('Swish function')\n",
        "plt.plot(x.numpy(), swish_out.numpy(), label='Swish')\n",
        "plt.plot(x.numpy(), relu_out.numpy(), label='ReLU')\n",
        "plt.legend();\n",
        "plt.show()"
      ]
    },
    {
      "cell_type": "code",
      "execution_count": null,
      "id": "78f652fb",
      "metadata": {
        "id": "78f652fb"
      },
      "outputs": [],
      "source": [
        "class ConvNormPool(nn.Module):\n",
        "    \"\"\"Conv Skip-connection module\"\"\"\n",
        "    def __init__(\n",
        "        self,\n",
        "        input_size,\n",
        "        hidden_size,\n",
        "        kernel_size,\n",
        "        norm_type='bachnorm'\n",
        "    ):\n",
        "        super().__init__()\n",
        "        \n",
        "        self.kernel_size = kernel_size\n",
        "        self.conv_1 = nn.Conv1d(\n",
        "            in_channels=input_size,\n",
        "            out_channels=hidden_size,\n",
        "            kernel_size=kernel_size\n",
        "        )\n",
        "        self.conv_2 = nn.Conv1d(\n",
        "            in_channels=hidden_size,\n",
        "            out_channels=hidden_size,\n",
        "            kernel_size=kernel_size\n",
        "        )\n",
        "        self.conv_3 = nn.Conv1d(\n",
        "            in_channels=hidden_size,\n",
        "            out_channels=hidden_size,\n",
        "            kernel_size=kernel_size\n",
        "        )\n",
        "        self.swish_1 = Swish()\n",
        "        self.swish_2 = Swish()\n",
        "        self.swish_3 = Swish()\n",
        "        if norm_type == 'group':\n",
        "            self.normalization_1 = nn.GroupNorm(\n",
        "                num_groups=8,\n",
        "                num_channels=hidden_size\n",
        "            )\n",
        "            self.normalization_2 = nn.GroupNorm(\n",
        "                num_groups=8,\n",
        "                num_channels=hidden_size\n",
        "            )\n",
        "            self.normalization_3 = nn.GroupNorm(\n",
        "                num_groups=8,\n",
        "                num_channels=hidden_size\n",
        "            )\n",
        "        else:\n",
        "            self.normalization_1 = nn.BatchNorm1d(num_features=hidden_size)\n",
        "            self.normalization_2 = nn.BatchNorm1d(num_features=hidden_size)\n",
        "            self.normalization_3 = nn.BatchNorm1d(num_features=hidden_size)\n",
        "            \n",
        "        self.pool = nn.MaxPool1d(kernel_size=2)\n",
        "        \n",
        "    def forward(self, input):\n",
        "        conv1 = self.conv_1(input)\n",
        "        x = self.normalization_1(conv1)\n",
        "        x = self.swish_1(x)\n",
        "        x = F.pad(x, pad=(self.kernel_size - 1, 0))\n",
        "        \n",
        "        x = self.conv_2(x)\n",
        "        x = self.normalization_2(x)\n",
        "        x = self.swish_2(x)\n",
        "        x = F.pad(x, pad=(self.kernel_size - 1, 0))\n",
        "        \n",
        "        conv3 = self.conv_3(x)\n",
        "        x = self.normalization_3(conv1+conv3)\n",
        "        x = self.swish_3(x)\n",
        "        x = F.pad(x, pad=(self.kernel_size - 1, 0))   \n",
        "        \n",
        "        x = self.pool(x)\n",
        "        return x"
      ]
    },
    {
      "cell_type": "code",
      "execution_count": null,
      "id": "73453014",
      "metadata": {
        "id": "73453014"
      },
      "outputs": [],
      "source": [
        "class CNN(nn.Module):\n",
        "    def __init__(\n",
        "        self,\n",
        "        input_size = 1,\n",
        "        hid_size = 256,\n",
        "        kernel_size = 5,\n",
        "        num_classes = 5,\n",
        "    ):\n",
        "        \n",
        "        super().__init__()\n",
        "        \n",
        "        self.conv1 = ConvNormPool(\n",
        "            input_size=input_size,\n",
        "            hidden_size=hid_size,\n",
        "            kernel_size=kernel_size,\n",
        "        )\n",
        "        self.conv2 = ConvNormPool(\n",
        "            input_size=hid_size,\n",
        "            hidden_size=hid_size//2,\n",
        "            kernel_size=kernel_size,\n",
        "        )\n",
        "        self.conv3 = ConvNormPool(\n",
        "            input_size=hid_size//2,\n",
        "            hidden_size=hid_size//4,\n",
        "            kernel_size=kernel_size,\n",
        "        )\n",
        "        self.avgpool = nn.AdaptiveAvgPool1d((1))\n",
        "        self.fc = nn.Linear(in_features=hid_size//4, out_features=num_classes)\n",
        "        \n",
        "    def forward(self, input):\n",
        "        x = self.conv1(input)\n",
        "        x = self.conv2(x)\n",
        "        x = self.conv3(x)\n",
        "        x = self.avgpool(x)        \n",
        "        # print(x.shape) # num_features * num_channels\n",
        "        x = x.view(-1, x.size(1) * x.size(2))\n",
        "        x = F.softmax(self.fc(x), dim=1)\n",
        "        return x"
      ]
    },
    {
      "cell_type": "code",
      "source": [
        "class Meter:\n",
        "    def __init__(self, n_classes=5):\n",
        "        self.metrics = {}\n",
        "        self.confusion = torch.zeros((n_classes, n_classes))\n",
        "    \n",
        "    def update(self, x, y, loss):\n",
        "        x = np.argmax(x.detach().cpu().numpy(), axis=1)\n",
        "        y = y.detach().cpu().numpy()\n",
        "        self.metrics['loss'] += loss\n",
        "        self.metrics['accuracy'] += accuracy_score(x,y)\n",
        "        self.metrics['f1'] += f1_score(x,y,average='macro')\n",
        "        self.metrics['precision'] += precision_score(x, y, average='macro', zero_division=1)\n",
        "        self.metrics['recall'] += recall_score(x,y, average='macro', zero_division=1)\n",
        "        \n",
        "        self._compute_cm(x, y)\n",
        "        \n",
        "    def _compute_cm(self, x, y):\n",
        "        for prob, target in zip(x, y):\n",
        "            if prob == target:\n",
        "                self.confusion[target][target] += 1\n",
        "            else:\n",
        "                self.confusion[target][prob] += 1\n",
        "    \n",
        "    def init_metrics(self):\n",
        "        self.metrics['loss'] = 0\n",
        "        self.metrics['accuracy'] = 0\n",
        "        self.metrics['f1'] = 0\n",
        "        self.metrics['precision'] = 0\n",
        "        self.metrics['recall'] = 0\n",
        "        \n",
        "    def get_metrics(self):\n",
        "        return self.metrics\n",
        "    \n",
        "    def get_confusion_matrix(self):\n",
        "        return self.confusion"
      ],
      "metadata": {
        "id": "RXauvK706A_8"
      },
      "id": "RXauvK706A_8",
      "execution_count": null,
      "outputs": []
    },
    {
      "cell_type": "code",
      "source": [
        "class Trainer:\n",
        "    def __init__(self, net, lr, batch_size, num_epochs):\n",
        "        self.net = net.to('cuda:0')\n",
        "        self.num_epochs = num_epochs\n",
        "        self.criterion = nn.CrossEntropyLoss()\n",
        "        self.optimizer = AdamW(self.net.parameters(), lr=lr)\n",
        "        self.scheduler = CosineAnnealingLR(self.optimizer, T_max=num_epochs, eta_min=5e-6)\n",
        "        self.best_loss = float('inf')\n",
        "        self.phases = ['train', 'val']\n",
        "        self.dataloaders = {\n",
        "            phase: get_dataloader(phase, batch_size) for phase in self.phases\n",
        "        }\n",
        "        self.train_df_logs = pd.DataFrame()\n",
        "        self.val_df_logs = pd.DataFrame()\n",
        "    \n",
        "    def _train_epoch(self, phase):\n",
        "        print(f\"{phase} mode | time: {time.strftime('%H:%M:%S')}\")\n",
        "        \n",
        "        self.net.train() if phase == 'train' else self.net.eval()\n",
        "        meter = Meter()\n",
        "        meter.init_metrics()\n",
        "        \n",
        "        for i, (data, target) in enumerate(self.dataloaders[phase]):\n",
        "            data = data.to(config.device)\n",
        "            target = target.to(config.device)\n",
        "            \n",
        "            output = self.net(data)\n",
        "            loss = self.criterion(output, target)\n",
        "                        \n",
        "            if phase == 'train':\n",
        "                self.optimizer.zero_grad()\n",
        "                loss.backward()\n",
        "                self.optimizer.step()\n",
        "            \n",
        "            meter.update(output, target, loss.item())\n",
        "        \n",
        "        metrics = meter.get_metrics()\n",
        "        metrics = {k:v / i for k, v in metrics.items()}\n",
        "        df_logs = pd.DataFrame([metrics])\n",
        "        confusion_matrix = meter.get_confusion_matrix()\n",
        "        \n",
        "        if phase == 'train':\n",
        "            self.train_df_logs = pd.concat([self.train_df_logs, df_logs], axis=0)\n",
        "        else:\n",
        "            self.val_df_logs = pd.concat([self.val_df_logs, df_logs], axis=0)\n",
        "        \n",
        "        # show logs\n",
        "        print('{}: {}, {}: {}, {}: {}, {}: {}, {}: {}'\n",
        "              .format(*(x for kv in metrics.items() for x in kv))\n",
        "             )\n",
        "        fig, ax = plt.subplots(figsize=(5, 5))\n",
        "        cm_ = ax.imshow(confusion_matrix, cmap='hot')\n",
        "        ax.set_title('Confusion matrix', fontsize=15)\n",
        "        ax.set_xlabel('Actual', fontsize=13)\n",
        "        ax.set_ylabel('Predicted', fontsize=13)\n",
        "        plt.colorbar(cm_)\n",
        "        plt.show()\n",
        "        \n",
        "        return loss\n",
        "    \n",
        "    def run(self):\n",
        "        for epoch in range(self.num_epochs):\n",
        "            self._train_epoch(phase='train')\n",
        "            with torch.no_grad():\n",
        "                val_loss = self._train_epoch(phase='val')\n",
        "                self.scheduler.step()\n",
        "            \n",
        "            if val_loss < self.best_loss:\n",
        "                self.best_loss = val_loss\n",
        "                print('\\nNew checkpoint\\n')\n",
        "                self.best_loss = val_loss\n",
        "                torch.save(self.net.state_dict(), f\"best_model_epoc{epoch}.pth\")"
      ],
      "metadata": {
        "id": "_oSrW5YT6KFA"
      },
      "id": "_oSrW5YT6KFA",
      "execution_count": null,
      "outputs": []
    },
    {
      "cell_type": "code",
      "execution_count": null,
      "id": "67196131",
      "metadata": {
        "id": "67196131"
      },
      "outputs": [],
      "source": [
        "model = CNN(num_classes=5, hid_size=128)\n",
        "model = model.to('cuda:0')"
      ]
    },
    {
      "cell_type": "code",
      "source": [
        "trainer = Trainer(net=model, lr=1e-3, batch_size=96, num_epochs=10)#100)\n",
        "trainer.run()"
      ],
      "metadata": {
        "id": "nsHSbboV6O-y"
      },
      "id": "nsHSbboV6O-y",
      "execution_count": null,
      "outputs": []
    },
    {
      "cell_type": "code",
      "execution_count": null,
      "id": "105e28c2",
      "metadata": {
        "id": "105e28c2"
      },
      "outputs": [],
      "source": [
        "cnn_model = CNN(num_classes=5, hid_size=128).to('cuda:0')\n",
        "cnn_model.load_state_dict(\n",
        "    torch.load(cnn_state_path,\n",
        "               map_location='cuda:0')\n",
        ");\n",
        "cnn_model.eval();\n",
        "logs = pd.read_csv(cnn_logs)"
      ]
    },
    {
      "cell_type": "code",
      "execution_count": null,
      "id": "3ce62184",
      "metadata": {
        "id": "3ce62184"
      },
      "outputs": [],
      "source": [
        "colors = ['#C042FF', '#03C576FF', '#FF355A', '#03C5BF', '#96C503', '#C5035B']\n",
        "palettes = [sns.color_palette(colors, 2),\n",
        "            sns.color_palette(colors, 4), \n",
        "            sns.color_palette(colors[:2]+colors[-2:] + colors[2:-2], 6)]\n",
        "            \n",
        "fig, ax = plt.subplots(1, 2, figsize=(12, 4))\n",
        "\n",
        "sns.lineplot(data=logs.iloc[:, :2], palette=palettes[0], markers=True, ax=ax[0], linewidth=2.5,)\n",
        "ax[0].set_title(\"Loss Function during Model Training\", fontsize=14)\n",
        "ax[0].set_xlabel(\"Epoch\", fontsize=14)\n",
        "\n",
        "sns.lineplot(data=logs.iloc[:, 2:6], palette=palettes[1], markers=True, ax=ax[1], linewidth=2.5, legend=\"full\")\n",
        "ax[1].set_title(\"Metrics during Model Training\", fontsize=15)\n",
        "ax[1].set_xlabel(\"Epoch\", fontsize=14)\n",
        "\n",
        "plt.suptitle('CNN Model', fontsize=18)\n",
        "\n",
        "plt.tight_layout()\n",
        "fig.savefig(\"cnn.png\", format=\"png\",  pad_inches=0.2, transparent=False, bbox_inches='tight')\n",
        "fig.savefig(\"cnn.svg\", format=\"svg\",  pad_inches=0.2, transparent=False, bbox_inches='tight')"
      ]
    },
    {
      "cell_type": "code",
      "execution_count": null,
      "id": "26db2b3b",
      "metadata": {
        "id": "26db2b3b"
      },
      "outputs": [],
      "source": [
        "def make_test_stage(dataloader, model, probs=False):\n",
        "    cls_predictions = []\n",
        "    cls_ground_truths = []\n",
        "\n",
        "    for i, (data, cls_target) in enumerate(dataloader):\n",
        "        with torch.no_grad():\n",
        "\n",
        "            data = data.to('cuda:0')\n",
        "            cls_target = cls_target.cpu()\n",
        "            cls_prediction = model(data)\n",
        "            \n",
        "            if not probs:\n",
        "                cls_prediction = torch.argmax(cls_prediction, dim=1)\n",
        "    \n",
        "            cls_predictions.append(cls_prediction.detach().cpu())\n",
        "            cls_ground_truths.append(cls_target)\n",
        "\n",
        "    predictions_cls = torch.cat(cls_predictions).numpy()\n",
        "    ground_truths_cls = torch.cat(cls_ground_truths).numpy()\n",
        "    return predictions_cls, ground_truths_cls"
      ]
    },
    {
      "cell_type": "code",
      "execution_count": null,
      "id": "114d6c7e",
      "metadata": {
        "id": "114d6c7e"
      },
      "outputs": [],
      "source": [
        "y_pred, y_true = make_test_stage(test_dataloader, cnn_model)\n",
        "y_pred.shape, y_true.shape"
      ]
    },
    {
      "cell_type": "code",
      "execution_count": null,
      "id": "3928f990",
      "metadata": {
        "id": "3928f990"
      },
      "outputs": [],
      "source": [
        "report = pd.DataFrame(\n",
        "    classification_report(\n",
        "        y_pred,\n",
        "        y_true,\n",
        "        output_dict=True\n",
        "    )\n",
        ").transpose()"
      ]
    },
    {
      "cell_type": "code",
      "execution_count": null,
      "id": "39dcf5c8",
      "metadata": {
        "id": "39dcf5c8"
      },
      "outputs": [],
      "source": [
        "colors = ['#00FA9A', '#D2B48C', '#FF69B4']#random.choices(list(mcolors.CSS4_COLORS.values()), k = 3)\n",
        "report_plot = report.apply(lambda x: x*100)\n",
        "ax = report_plot[[\"precision\", \"recall\", \"f1-score\"]].plot(kind='bar',\n",
        "                                                      figsize=(13, 4), legend=True, fontsize=15, color=colors)\n",
        "\n",
        "ax.set_xlabel(\"Estimators\", fontsize=15)\n",
        "ax.set_xticklabels(\n",
        "    list(id_to_label.values())+[\"accuracy avg\", \"marco avg\", \"weighted avg\"],\n",
        "    rotation=15, fontsize=11)\n",
        "ax.set_ylabel(\"Percentage\", fontsize=15)\n",
        "plt.title(\"CNN Model Classification Report\", fontsize=20)\n",
        "\n",
        "for percentage, p in zip(\n",
        "    report[['precision', 'recall', 'f1-score']].values,\n",
        "    ax.patches):\n",
        "    \n",
        "    percentage = \" \".join([str(round(i*100, 2))+\"%\" for i in percentage])\n",
        "    x = p.get_x() + p.get_width() - 0.4\n",
        "    y = p.get_y() + p.get_height() / 4\n",
        "    ax.annotate(percentage, (x, y), fontsize=8, rotation=15, fontweight='bold')\n",
        "fig.savefig(\"cnn_report.png\", format=\"png\",  pad_inches=0.2, transparent=False, bbox_inches='tight')\n",
        "fig.savefig(\"cnn_report.svg\", format=\"svg\",  pad_inches=0.2, transparent=False, bbox_inches='tight')\n",
        "plt.show()"
      ]
    },
    {
      "cell_type": "code",
      "execution_count": null,
      "id": "7b640286",
      "metadata": {
        "id": "7b640286"
      },
      "outputs": [],
      "source": [
        "clf_report = classification_report(y_pred, \n",
        "                                   y_true,\n",
        "                                   labels=[0,1,2,3,4],\n",
        "                                   target_names=list(id_to_label.values()),#['N', 'S', 'V', 'F', 'Q'],\n",
        "                                   output_dict=True)\n",
        "\n",
        "\n",
        "plt.figure(figsize=(10, 8))\n",
        "ax = sns.heatmap(pd.DataFrame(clf_report).iloc[:-1, :].T, annot=True)\n",
        "ax.set_xticklabels(ax.get_xticklabels(),fontsize=15)\n",
        "ax.set_yticklabels(ax.get_yticklabels(),fontsize=12, rotation=0)\n",
        "plt.title(\"CNN Classification Report\", fontsize=20)\n",
        "plt.savefig(f\"ensemble result.svg\",format=\"svg\",bbox_inches='tight', pad_inches=0.2)\n",
        "plt.savefig(f\"ensemble result.png\", format=\"png\",bbox_inches='tight', pad_inches=0.2)"
      ]
    },
    {
      "cell_type": "code",
      "execution_count": null,
      "id": "01e33895",
      "metadata": {
        "id": "01e33895"
      },
      "outputs": [],
      "source": [
        "clf_report"
      ]
    },
    {
      "cell_type": "code",
      "execution_count": null,
      "id": "a7fbe815",
      "metadata": {
        "id": "a7fbe815"
      },
      "outputs": [],
      "source": [
        "torch.save(cnn_model,'./cnn_model.pth')"
      ]
    },
    {
      "cell_type": "code",
      "execution_count": null,
      "id": "7a44064b",
      "metadata": {
        "id": "7a44064b"
      },
      "outputs": [],
      "source": [
        "saved_model = torch.load('./cnn_model.pth')"
      ]
    },
    {
      "cell_type": "code",
      "execution_count": null,
      "id": "e53b5b8e",
      "metadata": {
        "id": "e53b5b8e"
      },
      "outputs": [],
      "source": [
        ""
      ]
    }
  ],
  "metadata": {
    "kernelspec": {
      "display_name": "Python 3 (ipykernel)",
      "language": "python",
      "name": "python3"
    },
    "language_info": {
      "codemirror_mode": {
        "name": "ipython",
        "version": 3
      },
      "file_extension": ".py",
      "mimetype": "text/x-python",
      "name": "python",
      "nbconvert_exporter": "python",
      "pygments_lexer": "ipython3",
      "version": "3.9.12"
    },
    "colab": {
      "name": "ECG_CNN_Classification_pytorch.ipynb",
      "provenance": [],
      "collapsed_sections": []
    },
    "accelerator": "GPU"
  },
  "nbformat": 4,
  "nbformat_minor": 5
}